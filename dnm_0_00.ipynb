{
  "nbformat": 4,
  "nbformat_minor": 0,
  "metadata": {
    "colab": {
      "provenance": [],
      "authorship_tag": "ABX9TyNLYdGWmxC87ntAJIXoBrLT",
      "include_colab_link": true
    },
    "kernelspec": {
      "name": "python3",
      "display_name": "Python 3"
    },
    "language_info": {
      "name": "python"
    }
  },
  "cells": [
    {
      "cell_type": "markdown",
      "metadata": {
        "id": "view-in-github",
        "colab_type": "text"
      },
      "source": [
        "<a href=\"https://colab.research.google.com/github/sistron/dnm-0/blob/main/dnm_0_00.ipynb\" target=\"_parent\"><img src=\"https://colab.research.google.com/assets/colab-badge.svg\" alt=\"Open In Colab\"/></a>"
      ]
    },
    {
      "cell_type": "code",
      "execution_count": 1,
      "metadata": {
        "id": "VGpcaCtG_7wj",
        "colab": {
          "base_uri": "https://localhost:8080/"
        },
        "outputId": "5f81267f-a58f-4041-abc3-3905f0750a8b"
      },
      "outputs": [
        {
          "output_type": "stream",
          "name": "stdout",
          "text": [
            "Başlangıç\n"
          ]
        }
      ],
      "source": [
        "print(\"Başlangıç\")"
      ]
    },
    {
      "cell_type": "code",
      "source": [
        "print(46)"
      ],
      "metadata": {
        "id": "7YTh9rf3GAIO",
        "outputId": "249c6ea7-69d5-4f07-c5e5-0526b6299f83",
        "colab": {
          "base_uri": "https://localhost:8080/"
        }
      },
      "execution_count": 2,
      "outputs": [
        {
          "output_type": "stream",
          "name": "stdout",
          "text": [
            "46\n"
          ]
        }
      ]
    }
  ]
}